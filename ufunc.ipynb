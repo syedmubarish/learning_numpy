{
 "cells": [
  {
   "cell_type": "code",
   "execution_count": 6,
   "id": "c8b50306",
   "metadata": {},
   "outputs": [],
   "source": [
    "import numpy as np"
   ]
  },
  {
   "cell_type": "markdown",
   "id": "1bd3256d",
   "metadata": {},
   "source": [
    "# UFUNC INTRO\n"
   ]
  },
  {
   "cell_type": "markdown",
   "id": "0390edf0",
   "metadata": {},
   "source": [
    "Vectorization: Converting terative statements into vector based operation"
   ]
  },
  {
   "cell_type": "code",
   "execution_count": 7,
   "id": "48c846fa",
   "metadata": {},
   "outputs": [
    {
     "name": "stdout",
     "output_type": "stream",
     "text": [
      "[10, 12, 14, 16]\n"
     ]
    }
   ],
   "source": [
    "#Without ufunc\n",
    "\n",
    "list1 = [1,2,3,4]\n",
    "list2 = [9,10,11,12]\n",
    "\n",
    "res_list = []\n",
    "\n",
    "\n",
    "for i,j in zip(list1,list2):\n",
    "    res_list.append(i+j)\n",
    "\n",
    "print(res_list)"
   ]
  },
  {
   "cell_type": "code",
   "execution_count": 8,
   "id": "33848199",
   "metadata": {},
   "outputs": [
    {
     "name": "stdout",
     "output_type": "stream",
     "text": [
      "[10 12 14 16]\n"
     ]
    }
   ],
   "source": [
    "#With ufunc\n",
    "\n",
    "res_list2 = np.add(list1,list2)\n",
    "print(res_list2)"
   ]
  },
  {
   "cell_type": "markdown",
   "id": "0fa75b9a",
   "metadata": {},
   "source": [
    "# UFUNC CREATE"
   ]
  },
  {
   "cell_type": "code",
   "execution_count": 27,
   "id": "1831cb2e",
   "metadata": {},
   "outputs": [
    {
     "name": "stdout",
     "output_type": "stream",
     "text": [
      "[1 5 4 7]\n"
     ]
    }
   ],
   "source": [
    "def mysub(x,y):\n",
    "    return x - y\n",
    "\n",
    "mysub = np.frompyfunc(mysub,2,1)\n",
    "\n",
    "print(mysub([5,6,7,8],[4,1,3,1]))"
   ]
  },
  {
   "cell_type": "code",
   "execution_count": 31,
   "id": "f3ace303",
   "metadata": {},
   "outputs": [
    {
     "name": "stdout",
     "output_type": "stream",
     "text": [
      "<class 'numpy.ufunc'>\n",
      "<class 'numpy.ufunc'>\n",
      "<class 'numpy._ArrayFunctionDispatcher'>\n"
     ]
    },
    {
     "ename": "AttributeError",
     "evalue": "module 'numpy' has no attribute 'blabla'",
     "output_type": "error",
     "traceback": [
      "\u001b[0;31m---------------------------------------------------------------------------\u001b[0m",
      "\u001b[0;31mAttributeError\u001b[0m                            Traceback (most recent call last)",
      "Cell \u001b[0;32mIn[31], line 6\u001b[0m\n\u001b[1;32m      4\u001b[0m \u001b[38;5;28mprint\u001b[39m(\u001b[38;5;28mtype\u001b[39m(mysub))\n\u001b[1;32m      5\u001b[0m \u001b[38;5;28mprint\u001b[39m(\u001b[38;5;28mtype\u001b[39m(np\u001b[38;5;241m.\u001b[39mconcatenate))\n\u001b[0;32m----> 6\u001b[0m \u001b[38;5;28mprint\u001b[39m(\u001b[38;5;28mtype\u001b[39m(\u001b[43mnp\u001b[49m\u001b[38;5;241;43m.\u001b[39;49m\u001b[43mblabla\u001b[49m))\n",
      "File \u001b[0;32m~/Library/Python/3.9/lib/python/site-packages/numpy/__init__.py:410\u001b[0m, in \u001b[0;36m__getattr__\u001b[0;34m(attr)\u001b[0m\n\u001b[1;32m    407\u001b[0m     \u001b[38;5;28;01mimport\u001b[39;00m\u001b[38;5;250m \u001b[39m\u001b[38;5;21;01mnumpy\u001b[39;00m\u001b[38;5;21;01m.\u001b[39;00m\u001b[38;5;21;01mchar\u001b[39;00m\u001b[38;5;250m \u001b[39m\u001b[38;5;28;01mas\u001b[39;00m\u001b[38;5;250m \u001b[39m\u001b[38;5;21;01mchar\u001b[39;00m\n\u001b[1;32m    408\u001b[0m     \u001b[38;5;28;01mreturn\u001b[39;00m char\u001b[38;5;241m.\u001b[39mchararray\n\u001b[0;32m--> 410\u001b[0m \u001b[38;5;28;01mraise\u001b[39;00m \u001b[38;5;167;01mAttributeError\u001b[39;00m(\u001b[38;5;124m\"\u001b[39m\u001b[38;5;124mmodule \u001b[39m\u001b[38;5;132;01m{!r}\u001b[39;00m\u001b[38;5;124m has no attribute \u001b[39m\u001b[38;5;124m\"\u001b[39m\n\u001b[1;32m    411\u001b[0m                      \u001b[38;5;124m\"\u001b[39m\u001b[38;5;132;01m{!r}\u001b[39;00m\u001b[38;5;124m\"\u001b[39m\u001b[38;5;241m.\u001b[39mformat(\u001b[38;5;18m__name__\u001b[39m, attr))\n",
      "\u001b[0;31mAttributeError\u001b[0m: module 'numpy' has no attribute 'blabla'"
     ]
    }
   ],
   "source": [
    "#Type of ufunc\n",
    "\n",
    "print(type(np.add))\n",
    "print(type(mysub))\n",
    "print(type(np.concatenate))\n",
    "print(type(np.blabla))"
   ]
  },
  {
   "cell_type": "code",
   "execution_count": 32,
   "id": "494990ea",
   "metadata": {},
   "outputs": [
    {
     "name": "stdout",
     "output_type": "stream",
     "text": [
      "add is ufunc\n"
     ]
    }
   ],
   "source": [
    "if type(np.add)== np.ufunc:\n",
    "    print(\"add is ufunc\")\n",
    "else:\n",
    "    print(\"not ufunc\")"
   ]
  },
  {
   "cell_type": "markdown",
   "id": "0b1001a7",
   "metadata": {},
   "source": [
    "# UFUNC SIMPLE ARITHMETIC"
   ]
  },
  {
   "cell_type": "markdown",
   "id": "a2e332cb",
   "metadata": {},
   "source": [
    "## Addition"
   ]
  },
  {
   "cell_type": "code",
   "execution_count": 38,
   "id": "28ea5587",
   "metadata": {},
   "outputs": [
    {
     "name": "stdout",
     "output_type": "stream",
     "text": [
      "[35 37 39 41 43 45]\n"
     ]
    }
   ],
   "source": [
    "arr1 = np.array([10, 11, 12, 13, 14, 15])\n",
    "arr2 = np.array([25, 26, 27, 28, 29, 30])\n",
    "\n",
    "res_arr = np.add(arr1, arr2)\n",
    "print(res_arr)"
   ]
  },
  {
   "cell_type": "code",
   "execution_count": 42,
   "id": "5abb55ef",
   "metadata": {},
   "outputs": [
    {
     "name": "stdout",
     "output_type": "stream",
     "text": [
      "[35  4 39  4 43  4]\n"
     ]
    }
   ],
   "source": [
    "arr1 = np.array([10, 11, 12, 13, 14, 15])\n",
    "arr2 = np.array([25, 26, 27, 28, 29, 30])\n",
    "res_arr = np.array([4, 4, 4, 4, 4, 4])\n",
    "np.add(arr1, arr2, where=arr1 % 2 == 0, out=res_arr)\n",
    "\n",
    "print(res_arr)"
   ]
  },
  {
   "cell_type": "markdown",
   "id": "4dba8951",
   "metadata": {},
   "source": [
    "## Subtraction"
   ]
  },
  {
   "cell_type": "code",
   "execution_count": 43,
   "id": "65778049",
   "metadata": {},
   "outputs": [
    {
     "name": "stdout",
     "output_type": "stream",
     "text": [
      "[ 20  16  24  10 -16   0]\n"
     ]
    }
   ],
   "source": [
    "arr1 = np.array([25, 26, 27, 28, 29, 30])\n",
    "arr2 = np.array([5, 10, 3, 18, 45,30])\n",
    "\n",
    "res_arr = np.subtract(arr1,arr2)\n",
    "\n",
    "print(res_arr)"
   ]
  },
  {
   "cell_type": "markdown",
   "id": "96204bd0",
   "metadata": {},
   "source": [
    "## Multiplication"
   ]
  },
  {
   "cell_type": "code",
   "execution_count": 44,
   "id": "bc1d00bb",
   "metadata": {},
   "outputs": [
    {
     "name": "stdout",
     "output_type": "stream",
     "text": [
      "[ 125  260   81  504 1305  900]\n"
     ]
    }
   ],
   "source": [
    "arr1 = np.array([25, 26, 27, 28, 29, 30])\n",
    "arr2 = np.array([5, 10, 3, 18, 45,30])\n",
    "\n",
    "res_arr = np.multiply(arr1,arr2)\n",
    "print(res_arr)"
   ]
  },
  {
   "cell_type": "markdown",
   "id": "8a0bda0a",
   "metadata": {},
   "source": [
    "## Division"
   ]
  },
  {
   "cell_type": "code",
   "execution_count": 45,
   "id": "bc459a40",
   "metadata": {},
   "outputs": [
    {
     "name": "stdout",
     "output_type": "stream",
     "text": [
      "[5.         2.6        9.         1.55555556 0.64444444 1.        ]\n"
     ]
    }
   ],
   "source": [
    "arr1 = np.array([25, 26, 27, 28, 29, 30])\n",
    "arr2 = np.array([5, 10, 3, 18, 45,30])\n",
    "\n",
    "res_arr = np.divide(arr1,arr2)\n",
    "print(res_arr)"
   ]
  },
  {
   "cell_type": "markdown",
   "id": "57dff348",
   "metadata": {},
   "source": [
    "## Power"
   ]
  },
  {
   "cell_type": "code",
   "execution_count": 46,
   "id": "c3029223",
   "metadata": {},
   "outputs": [
    {
     "name": "stdout",
     "output_type": "stream",
     "text": [
      "[    100    8000     900 2560000]\n"
     ]
    }
   ],
   "source": [
    "arr1 = np.array([10, 20, 30, 40])\n",
    "arr2 = np.array([2, 3, 2, 4])\n",
    "\n",
    "res_arr = np.power(arr1,arr2)\n",
    "print(res_arr)"
   ]
  },
  {
   "cell_type": "markdown",
   "id": "9e503c2a",
   "metadata": {},
   "source": [
    "## Remainder"
   ]
  },
  {
   "cell_type": "code",
   "execution_count": 49,
   "id": "05ae5431",
   "metadata": {},
   "outputs": [
    {
     "name": "stdout",
     "output_type": "stream",
     "text": [
      "[0 2 1 3]\n"
     ]
    }
   ],
   "source": [
    "arr1 = np.array([10, 20, 15, 39])\n",
    "arr2 = np.array([2, 3, 2, 4])\n",
    "\n",
    "res_arr = np.mod(arr1,arr2)\n",
    "\n",
    "print(res_arr)"
   ]
  },
  {
   "cell_type": "markdown",
   "id": "1535bb8a",
   "metadata": {},
   "source": [
    "## Quotient and Mod"
   ]
  },
  {
   "cell_type": "code",
   "execution_count": 50,
   "id": "136d8bbe",
   "metadata": {},
   "outputs": [
    {
     "name": "stdout",
     "output_type": "stream",
     "text": [
      "(array([ 3,  2,  3,  5, 25,  1]), array([ 1,  6,  3,  0,  0, 27]))\n"
     ]
    }
   ],
   "source": [
    "arr1 = np.array([10, 20, 30, 40, 50, 60])\n",
    "arr2 = np.array([3, 7, 9, 8, 2, 33])\n",
    "\n",
    "res_arr = np.divmod(arr1,arr2)\n",
    "print(res_arr)"
   ]
  },
  {
   "cell_type": "markdown",
   "id": "5626437e",
   "metadata": {},
   "source": [
    "## Absolute Values"
   ]
  },
  {
   "cell_type": "code",
   "execution_count": 51,
   "id": "77c95564",
   "metadata": {},
   "outputs": [
    {
     "name": "stdout",
     "output_type": "stream",
     "text": [
      "[4 1 7 8 0 2 5]\n"
     ]
    }
   ],
   "source": [
    "arr = [-4, 1, -7, -8, 0, 2, 5]\n",
    "\n",
    "res_arr = np.absolute(arr)\n",
    "\n",
    "print(res_arr)"
   ]
  },
  {
   "cell_type": "markdown",
   "id": "ad376bdb",
   "metadata": {},
   "source": [
    "# NUMPY ROUNDING DECIMALS"
   ]
  },
  {
   "cell_type": "code",
   "execution_count": 54,
   "id": "8bfaa29d",
   "metadata": {},
   "outputs": [
    {
     "name": "stdout",
     "output_type": "stream",
     "text": [
      "[ 2.  3.  2. -1. -2.]\n"
     ]
    }
   ],
   "source": [
    "# Truncation\n",
    "\n",
    "arr = np.array([2, 3.5556, 2.33333, -1.5666, -2])\n",
    "\n",
    "res_arr = np.trunc(arr)\n",
    "\n",
    "print(res_arr)"
   ]
  },
  {
   "cell_type": "code",
   "execution_count": 56,
   "id": "80fe967a",
   "metadata": {},
   "outputs": [
    {
     "name": "stdout",
     "output_type": "stream",
     "text": [
      "[ 2.  3.  2. -1. -2.]\n"
     ]
    }
   ],
   "source": [
    "#fix\n",
    "\n",
    "res_arr = np.fix(arr)\n",
    "print(res_arr)"
   ]
  },
  {
   "cell_type": "code",
   "execution_count": 71,
   "id": "0fad073c",
   "metadata": {},
   "outputs": [
    {
     "name": "stdout",
     "output_type": "stream",
     "text": [
      "[-1.  1. -2.  2. -2.]\n"
     ]
    }
   ],
   "source": [
    "# around\n",
    "\n",
    "arr = [-1.2, 1.4, -1.5, 1.7, -1.9,]\n",
    "\n",
    "res_arr = np.around(arr)\n",
    "\n",
    "print(res_arr)"
   ]
  },
  {
   "cell_type": "code",
   "execution_count": 72,
   "id": "1c4c32de",
   "metadata": {},
   "outputs": [
    {
     "name": "stdout",
     "output_type": "stream",
     "text": [
      "[-2.  1. -2.  1. -2.]\n"
     ]
    }
   ],
   "source": [
    "#floor\n",
    "\n",
    "arr = [-1.2, 1.4, -1.5, 1.7, -1.9,]\n",
    "\n",
    "res_arr = np.floor(arr)\n",
    "print(res_arr)"
   ]
  },
  {
   "cell_type": "code",
   "execution_count": 73,
   "id": "03e6a378",
   "metadata": {},
   "outputs": [
    {
     "name": "stdout",
     "output_type": "stream",
     "text": [
      "[-1.  2. -1.  2. -1.]\n"
     ]
    }
   ],
   "source": [
    "#ceil\n",
    "\n",
    "arr = [-1.2, 1.4, -1.5, 1.7, -1.9,]\n",
    "\n",
    "res_arr = np.ceil(arr)\n",
    "print(res_arr)"
   ]
  },
  {
   "cell_type": "markdown",
   "id": "f769b20a",
   "metadata": {},
   "source": [
    "# NUMPY LOGS"
   ]
  },
  {
   "cell_type": "code",
   "execution_count": null,
   "id": "28dbc444",
   "metadata": {},
   "outputs": [
    {
     "name": "stdout",
     "output_type": "stream",
     "text": [
      "[1 2 3 4 5 6 7 8 9]\n",
      "[0.         0.69314718 1.09861229 1.38629436 1.60943791 1.79175947\n",
      " 1.94591015 2.07944154 2.19722458]\n"
     ]
    }
   ],
   "source": [
    "#base e or natural log\n",
    "arr = np.arange(1,10)\n",
    "print(arr)\n",
    "print(np.log(arr))"
   ]
  },
  {
   "cell_type": "code",
   "execution_count": 78,
   "id": "f1414317",
   "metadata": {},
   "outputs": [
    {
     "name": "stdout",
     "output_type": "stream",
     "text": [
      "[0.         1.         1.5849625  2.         2.32192809 2.5849625\n",
      " 2.80735492 3.         3.169925  ]\n"
     ]
    }
   ],
   "source": [
    "#base2\n",
    "arr = np.arange(1,10)\n",
    "res_arr = np.log2(arr)\n",
    "print(res_arr)"
   ]
  },
  {
   "cell_type": "code",
   "execution_count": 79,
   "id": "23c7ffcf",
   "metadata": {},
   "outputs": [
    {
     "name": "stdout",
     "output_type": "stream",
     "text": [
      "[0.         0.30103    0.47712125 0.60205999 0.69897    0.77815125\n",
      " 0.84509804 0.90308999 0.95424251]\n"
     ]
    }
   ],
   "source": [
    "#base10\n",
    "\n",
    "arr = np.arange(1,10)\n",
    "res_arr = np.log10(arr)\n",
    "print(res_arr)"
   ]
  },
  {
   "cell_type": "code",
   "execution_count": 84,
   "id": "d2c643c8",
   "metadata": {},
   "outputs": [
    {
     "name": "stdout",
     "output_type": "stream",
     "text": [
      "[1.7005483074552052 3.1699250014423126]\n"
     ]
    }
   ],
   "source": [
    "#Log of any base\n",
    "\n",
    "from math import log\n",
    "import numpy as np\n",
    "\n",
    "nplog = np.frompyfunc(log, 2, 1)\n",
    "\n",
    "print(nplog([100,9], [15,2]))"
   ]
  },
  {
   "cell_type": "markdown",
   "id": "af9f2b3d",
   "metadata": {},
   "source": [
    "# NUMPY SUMMATIONS"
   ]
  },
  {
   "cell_type": "code",
   "execution_count": 87,
   "id": "60aaaddf",
   "metadata": {},
   "outputs": [
    {
     "name": "stdout",
     "output_type": "stream",
     "text": [
      "55\n"
     ]
    }
   ],
   "source": [
    "arr1 = np.arange(1,11)\n",
    "\n",
    "res = np.sum([arr1])\n",
    "print(res_arr)"
   ]
  },
  {
   "cell_type": "code",
   "execution_count": 88,
   "id": "4399f07c",
   "metadata": {},
   "outputs": [
    {
     "name": "stdout",
     "output_type": "stream",
     "text": [
      "110\n"
     ]
    }
   ],
   "source": [
    "arr1 = np.arange(1,11)\n",
    "arr2 = np.arange(1,11)\n",
    "res = np.sum([arr1,arr2])\n",
    "print(res)"
   ]
  },
  {
   "cell_type": "code",
   "execution_count": 91,
   "id": "a9c732b2",
   "metadata": {},
   "outputs": [
    {
     "name": "stdout",
     "output_type": "stream",
     "text": [
      "[ 2  4  6  8 10 12 14 16 18 20]\n"
     ]
    }
   ],
   "source": [
    "arr1 = np.arange(1,11)\n",
    "arr2 = np.arange(1,11)\n",
    "\n",
    "res = np.sum([arr1, arr2], axis=0)\n",
    "print(res)"
   ]
  },
  {
   "cell_type": "code",
   "execution_count": 92,
   "id": "c4be8d3d",
   "metadata": {},
   "outputs": [
    {
     "name": "stdout",
     "output_type": "stream",
     "text": [
      "[55 55]\n"
     ]
    }
   ],
   "source": [
    "arr1 = np.arange(1,11)\n",
    "arr2 = np.arange(1,11)\n",
    "\n",
    "res = np.sum([arr1, arr2], axis=1)\n",
    "print(res)"
   ]
  },
  {
   "cell_type": "code",
   "execution_count": 90,
   "id": "5c4bbfe6",
   "metadata": {},
   "outputs": [
    {
     "name": "stdout",
     "output_type": "stream",
     "text": [
      "[ 1  3  6 10 15 21 28 36 45 55]\n"
     ]
    }
   ],
   "source": [
    "#Cummulative Sum\n",
    "\n",
    "arr = np.arange(1,11)\n",
    "\n",
    "res_arr = np.cumsum(arr)\n",
    "\n",
    "print(res_arr)"
   ]
  },
  {
   "cell_type": "markdown",
   "id": "23acaa6e",
   "metadata": {},
   "source": [
    "# Numpy Products"
   ]
  },
  {
   "cell_type": "code",
   "execution_count": 95,
   "id": "08c864bf",
   "metadata": {},
   "outputs": [
    {
     "name": "stdout",
     "output_type": "stream",
     "text": [
      "24\n"
     ]
    }
   ],
   "source": [
    "arr = np.arange(1,5)\n",
    "\n",
    "res = np.prod(arr)\n",
    "print(res)"
   ]
  },
  {
   "cell_type": "code",
   "execution_count": 98,
   "id": "572c00bb",
   "metadata": {},
   "outputs": [
    {
     "name": "stdout",
     "output_type": "stream",
     "text": [
      "40320\n"
     ]
    }
   ],
   "source": [
    "arr1 = np.arange(1, 5)\n",
    "arr2 = np.arange(5, 9)\n",
    "\n",
    "res_arr = np.prod([arr1, arr2])\n",
    "\n",
    "print(res_arr)"
   ]
  },
  {
   "cell_type": "code",
   "execution_count": 99,
   "id": "909fdbb8",
   "metadata": {},
   "outputs": [
    {
     "name": "stdout",
     "output_type": "stream",
     "text": [
      "[ 5 12 21 32]\n"
     ]
    }
   ],
   "source": [
    "arr1 = np.arange(1, 5)\n",
    "arr2 = np.arange(5, 9)\n",
    "\n",
    "res_arr = np.prod([arr1,arr2],axis=0)\n",
    "print(res_arr)"
   ]
  },
  {
   "cell_type": "code",
   "execution_count": 100,
   "id": "5bf6de29",
   "metadata": {},
   "outputs": [
    {
     "name": "stdout",
     "output_type": "stream",
     "text": [
      "[  24 1680]\n"
     ]
    }
   ],
   "source": [
    "arr1 = np.arange(1, 5)\n",
    "arr2 = np.arange(5, 9)\n",
    "\n",
    "res_arr = np.prod([arr1,arr2],axis=1)\n",
    "print(res_arr)"
   ]
  },
  {
   "cell_type": "code",
   "execution_count": 101,
   "id": "17b02d83",
   "metadata": {},
   "outputs": [
    {
     "name": "stdout",
     "output_type": "stream",
     "text": [
      "[ 1  2  6 24]\n"
     ]
    }
   ],
   "source": [
    "arr = np.arange(1,5)\n",
    "\n",
    "res = np.cumprod([arr])\n",
    "\n",
    "print(res)"
   ]
  },
  {
   "cell_type": "markdown",
   "id": "f164e044",
   "metadata": {},
   "source": [
    "# NUMPY DIFFERENCES"
   ]
  },
  {
   "cell_type": "code",
   "execution_count": 102,
   "id": "766087e9",
   "metadata": {},
   "outputs": [
    {
     "name": "stdout",
     "output_type": "stream",
     "text": [
      "[ 4  2 -4 12]\n"
     ]
    }
   ],
   "source": [
    "arr = np.array([1,5,7,3,15])\n",
    "\n",
    "res_arr = np.diff(arr)\n",
    "\n",
    "print(res_arr)"
   ]
  },
  {
   "cell_type": "code",
   "execution_count": 103,
   "id": "bd6da5c2",
   "metadata": {},
   "outputs": [
    {
     "name": "stdout",
     "output_type": "stream",
     "text": [
      "[-12 -11   2  -2]\n"
     ]
    }
   ],
   "source": [
    "arr = np.array([3, 19, 23, 16, 11, 4])\n",
    "\n",
    "res_arr = np.diff(arr,n=2)\n",
    "\n",
    "print(res_arr)"
   ]
  },
  {
   "cell_type": "markdown",
   "id": "e79981b0",
   "metadata": {},
   "source": [
    "# NUMPY LCM"
   ]
  },
  {
   "cell_type": "code",
   "execution_count": 104,
   "id": "7390ac39",
   "metadata": {},
   "outputs": [
    {
     "name": "stdout",
     "output_type": "stream",
     "text": [
      "20\n"
     ]
    }
   ],
   "source": [
    "#LCM of two numbers\n",
    "\n",
    "res = np.lcm(4,5)\n",
    "print(res)"
   ]
  },
  {
   "cell_type": "code",
   "execution_count": 105,
   "id": "9436509d",
   "metadata": {},
   "outputs": [
    {
     "name": "stdout",
     "output_type": "stream",
     "text": [
      "2520\n"
     ]
    }
   ],
   "source": [
    "# LCM of numbers in arrays\n",
    "arr = np.arange(1,10)\n",
    "\n",
    "res = np.lcm.reduce(arr)\n",
    "print(res)"
   ]
  },
  {
   "cell_type": "markdown",
   "id": "0bd59ab8",
   "metadata": {},
   "source": [
    "# NUMPY GCD"
   ]
  },
  {
   "cell_type": "code",
   "execution_count": 107,
   "id": "24309620",
   "metadata": {},
   "outputs": [
    {
     "name": "stdout",
     "output_type": "stream",
     "text": [
      "3\n"
     ]
    }
   ],
   "source": [
    "res = np.gcd(9,12)\n",
    "print(res)"
   ]
  },
  {
   "cell_type": "code",
   "execution_count": 114,
   "id": "08c88771",
   "metadata": {},
   "outputs": [
    {
     "name": "stdout",
     "output_type": "stream",
     "text": [
      "4\n"
     ]
    }
   ],
   "source": [
    "#GCD of numbers in array\n",
    "\n",
    "arr = np.array([20, 8, 32, 36, 16])\n",
    "res = np.gcd.reduce(arr)\n",
    "print(res)"
   ]
  }
 ],
 "metadata": {
  "kernelspec": {
   "display_name": "Python 3",
   "language": "python",
   "name": "python3"
  },
  "language_info": {
   "codemirror_mode": {
    "name": "ipython",
    "version": 3
   },
   "file_extension": ".py",
   "mimetype": "text/x-python",
   "name": "python",
   "nbconvert_exporter": "python",
   "pygments_lexer": "ipython3",
   "version": "3.9.6"
  }
 },
 "nbformat": 4,
 "nbformat_minor": 5
}
